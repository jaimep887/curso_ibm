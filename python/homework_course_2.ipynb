{
 "cells": [
  {
   "cell_type": "markdown",
   "metadata": {},
   "source": [
    "<center>\n",
    "    <img src=\"https://s3-api.us-geo.objectstorage.softlayer.net/cf-courses-data/CognitiveClass/Logos/organization_logo/organization_logo.png\" width=\"300\" alt=\"cognitiveclass.ai logo\"  />\n",
    "</center>\n"
   ]
  },
  {
   "cell_type": "markdown",
   "metadata": {},
   "source": [
    "#### Add your code below following the instructions given in the course\n"
   ]
  },
  {
   "cell_type": "markdown",
   "metadata": {},
   "source": [
    "# My Jupyter Notebook on IBM Watson Studio"
   ]
  },
  {
   "cell_type": "markdown",
   "metadata": {},
   "source": [
    "__Jaime Alejandro Pérez Patiño__\n",
    "\n",
    "Formulation chemist looking for a opportunity to turn into data sciencetist"
   ]
  },
  {
   "cell_type": "markdown",
   "metadata": {},
   "source": [
    "_I'm interest into data science because I found that I like to coding and solve problems with big data during the my master degree studies. I also into improve my life conditions and data science is one the future careers._"
   ]
  },
  {
   "cell_type": "markdown",
   "metadata": {},
   "source": [
    "### This code help obtain the percentage of \"T\" of a nucleotide sequence"
   ]
  },
  {
   "cell_type": "code",
   "execution_count": 44,
   "metadata": {},
   "outputs": [
    {
     "name": "stdout",
     "output_type": "stream",
     "text": [
      "the content of T is 23.33 % \n"
     ]
    }
   ],
   "source": [
    "sequence = \"ATTTCGAATTTAAAACCCCGGGGCGAAATC\"\n",
    "\n",
    "count = 0\n",
    "\n",
    "for i in sequence:\n",
    "    \n",
    "    if i == \"T\":\n",
    "    \n",
    "        count = count + 1\n",
    "        \n",
    "    else:\n",
    "    \n",
    "        continue\n",
    "        \n",
    "percentage = round(((count/len(sequence))*100),2)\n",
    "    \n",
    "print (\"the content of T is \" + str(percentage) + \" % \")"
   ]
  },
  {
   "cell_type": "markdown",
   "metadata": {},
   "source": [
    "***\n",
    "\n",
    "If you are looking for junior data scientist you can contact me via [linkedin](https://www.linkedin.com/in/jaimep887).\n",
    "\n",
    "I already program on the following lenguages:\n",
    "- R\n",
    "- Python\n",
    "- Bash\n",
    "- Perl\n",
    "\n",
    "I have experience with:\n",
    "1. Bioinformtic pipelines\n",
    "2. Data analysis on linux servers (PBS system)\n",
    "3. Analysis of data from NGS\n",
    "4. Data visualization and unsupervised machine learning on R."
   ]
  },
  {
   "cell_type": "code",
   "execution_count": null,
   "metadata": {},
   "outputs": [],
   "source": [
    "len("
   ]
  }
 ],
 "metadata": {
  "kernelspec": {
   "display_name": "Python",
   "language": "python",
   "name": "conda-env-python-py"
  },
  "language_info": {
   "codemirror_mode": {
    "name": "ipython",
    "version": 3
   },
   "file_extension": ".py",
   "mimetype": "text/x-python",
   "name": "python",
   "nbconvert_exporter": "python",
   "pygments_lexer": "ipython3",
   "version": "3.7.12"
  }
 },
 "nbformat": 4,
 "nbformat_minor": 4
}
